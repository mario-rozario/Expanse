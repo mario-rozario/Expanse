{
 "cells": [
  {
   "cell_type": "markdown",
   "metadata": {},
   "source": [
    "# NumPy\n",
    "\n",
    "numpy is python's package for doing math that is more advanced than +-*/\n",
    "\n",
    "This includes special functions like cosine, exponential, sqrt, ...\n",
    "\n",
    "On top of this we can use numpy to generate samples from many types of random variables\n",
    "\n",
    "numpy also has a powerful data type to define vectors, matrices, and tensors\n",
    "\n",
    "With these data types numpy also allows us to do linear algebra - matrix multiplication and matrix-vector solutions"
   ]
  },
  {
   "cell_type": "code",
   "execution_count": 1,
   "metadata": {},
   "outputs": [],
   "source": [
    "# the first step of using numpy is to tell python to use it\n",
    "import numpy as np"
   ]
  },
  {
   "cell_type": "code",
   "execution_count": 2,
   "metadata": {},
   "outputs": [
    {
     "name": "stdout",
     "output_type": "stream",
     "text": [
      "-1.0\n",
      "1.1\n",
      "5.2\n"
     ]
    }
   ],
   "source": [
    "print(np.cos(np.pi))\n",
    "print(np.sqrt(1.21))\n",
    "print(np.log(np.exp(5.2)))"
   ]
  },
  {
   "cell_type": "code",
   "execution_count": 3,
   "metadata": {},
   "outputs": [
    {
     "name": "stdout",
     "output_type": "stream",
     "text": [
      "[1 2 3]\n",
      "\n",
      "[[1 2 1]\n",
      " [4 5 9]\n",
      " [1 8 9]]\n",
      "\n",
      "[[1 4 1]\n",
      " [2 5 8]\n",
      " [1 9 9]]\n"
     ]
    }
   ],
   "source": [
    "# we can create numpy arrays by converting lists\n",
    "# this is a vector\n",
    "vec = np.array([1,2,3])\n",
    "print(vec)\n",
    "# we can create matrices by converting lists of lists\n",
    "mat = np.array([[1,2,1],[4,5,9],[1,8,9]])\n",
    "print('')\n",
    "print(mat)\n",
    "print('')\n",
    "print(mat.T)"
   ]
  },
  {
   "cell_type": "code",
   "execution_count": 8,
   "metadata": {},
   "outputs": [
    {
     "name": "stdout",
     "output_type": "stream",
     "text": [
      "[[1 2]\n",
      " [2 3]\n",
      " [3 4]]\n",
      "[[1 2 3]\n",
      " [2 3 4]]\n"
     ]
    }
   ],
   "source": [
    "vc_1 = np.array([[1,2],[2,3],[3,4]])\n",
    "print(vc_1)\n",
    "print(vc_1.T)"
   ]
  },
  {
   "cell_type": "code",
   "execution_count": 9,
   "metadata": {},
   "outputs": [
    {
     "name": "stdout",
     "output_type": "stream",
     "text": [
      "[ 0  1  2  3  4  5  6  7  8  9 10 11 12 13 14]\n",
      "\n",
      "[ 3  9 15]\n"
     ]
    }
   ],
   "source": [
    "# there are lots of other ways to create numpy arrays\n",
    "vec2 = np.arange(0,15)\n",
    "print(vec2)\n",
    "print('')\n",
    "vec3 = np.arange(3,21,6)\n",
    "print(vec3)\n"
   ]
  },
  {
   "cell_type": "code",
   "execution_count": 10,
   "metadata": {},
   "outputs": [
    {
     "name": "stdout",
     "output_type": "stream",
     "text": [
      "[ 1  3  5  7  9 11 13 15 17 19]\n"
     ]
    }
   ],
   "source": [
    "vec_2=np.arange(1,20,2)\n",
    "print(vec_2)"
   ]
  },
  {
   "cell_type": "code",
   "execution_count": 11,
   "metadata": {},
   "outputs": [
    {
     "name": "stdout",
     "output_type": "stream",
     "text": [
      "[0.         0.55555556 1.11111111 1.66666667 2.22222222 2.77777778\n",
      " 3.33333333 3.88888889 4.44444444 5.        ]\n",
      "\n",
      "[[0.         0.55555556]\n",
      " [1.11111111 1.66666667]\n",
      " [2.22222222 2.77777778]\n",
      " [3.33333333 3.88888889]\n",
      " [4.44444444 5.        ]]\n",
      "[[0.         0.55555556]\n",
      " [1.11111111 1.66666667]\n",
      " [2.22222222 2.77777778]\n",
      " [3.33333333 3.88888889]\n",
      " [4.44444444 5.        ]]\n",
      "[0.         0.55555556 1.11111111 1.66666667 2.22222222 2.77777778\n",
      " 3.33333333 3.88888889 4.44444444 5.        ]\n"
     ]
    }
   ],
   "source": [
    "# this is to generate a set of random numbers between 2 intervals\n",
    "vec4 = np.linspace(0,5,10)\n",
    "print(vec4)\n",
    "print('')\n",
    "print(vec4.reshape(5,2))\n",
    "vec4_reshaped = vec4.reshape(5,2)\n",
    "print(vec4_reshaped)\n",
    "print(vec4)"
   ]
  },
  {
   "cell_type": "code",
   "execution_count": 14,
   "metadata": {},
   "outputs": [
    {
     "name": "stdout",
     "output_type": "stream",
     "text": [
      "[0.         0.11111111 0.22222222 0.33333333 0.44444444 0.55555556\n",
      " 0.66666667 0.77777778 0.88888889 1.        ]\n",
      " \n"
     ]
    },
    {
     "data": {
      "text/plain": [
       "array([[0.        , 0.11111111],\n",
       "       [0.22222222, 0.33333333],\n",
       "       [0.44444444, 0.55555556],\n",
       "       [0.66666667, 0.77777778],\n",
       "       [0.88888889, 1.        ]])"
      ]
     },
     "execution_count": 14,
     "metadata": {},
     "output_type": "execute_result"
    }
   ],
   "source": [
    "vec_4 = np.linspace(0,1,10)\n",
    "print(vec_4)\n",
    "print(' ')\n",
    "vec_4.reshape(5,2)"
   ]
  },
  {
   "cell_type": "code",
   "execution_count": 15,
   "metadata": {},
   "outputs": [
    {
     "name": "stdout",
     "output_type": "stream",
     "text": [
      "[[0. 0. 0.]\n",
      " [0. 0. 0.]\n",
      " [0. 0. 0.]\n",
      " [0. 0. 0.]\n",
      " [0. 0. 0.]]\n",
      "\n",
      "[[1. 1. 1. 1. 1.]\n",
      " [1. 1. 1. 1. 1.]\n",
      " [1. 1. 1. 1. 1.]]\n",
      "\n",
      "[[1. 0. 0. 0. 0.]\n",
      " [0. 1. 0. 0. 0.]\n",
      " [0. 0. 1. 0. 0.]\n",
      " [0. 0. 0. 1. 0.]\n",
      " [0. 0. 0. 0. 1.]]\n"
     ]
    }
   ],
   "source": [
    "mat2 = np.zeros([5,3])\n",
    "print(mat2)\n",
    "mat3 = np.ones((3,5))\n",
    "print('')\n",
    "print(mat3)\n",
    "mat4 = np.eye(5)\n",
    "print('')\n",
    "print(mat4)"
   ]
  },
  {
   "cell_type": "code",
   "execution_count": 16,
   "metadata": {},
   "outputs": [
    {
     "name": "stdout",
     "output_type": "stream",
     "text": [
      "[1 2 3 4 5]\n",
      "[3 4 5 6 7]\n",
      "[ 4  6  8 10 12]\n",
      "[ 3  8 15 24 35]\n",
      "[1.         0.5        0.33333333 0.25       0.2       ]\n",
      "[1.73205081 2.         2.23606798 2.44948974 2.64575131]\n"
     ]
    }
   ],
   "source": [
    "# we can +-*/ arrays together if they're the right size\n",
    "vec5 = np.arange(1,6)\n",
    "vec6 = np.arange(3,8)\n",
    "print(vec5)\n",
    "print(vec6)\n",
    "print(vec5+vec6)\n",
    "print(vec5*vec6)\n",
    "print(1/vec5)\n",
    "print(np.sqrt(vec6))"
   ]
  },
  {
   "cell_type": "code",
   "execution_count": 17,
   "metadata": {},
   "outputs": [
    {
     "name": "stdout",
     "output_type": "stream",
     "text": [
      "[[1 2 1]\n",
      " [4 5 9]\n",
      " [1 8 9]]\n",
      "\n",
      "[1 2 3]\n",
      "\n",
      "[ 8 41 44]\n"
     ]
    }
   ],
   "source": [
    "# we can do matrix multiplication\n",
    "print(mat)\n",
    "print('')\n",
    "print(vec)\n",
    "print()\n",
    "product = np.matmul(mat,vec)\n",
    "print(product)"
   ]
  },
  {
   "cell_type": "code",
   "execution_count": 19,
   "metadata": {},
   "outputs": [
    {
     "name": "stdout",
     "output_type": "stream",
     "text": [
      "[1. 2. 3.]\n",
      "\n",
      "[[ 0.5         0.18518519 -0.24074074]\n",
      " [ 0.5        -0.14814815  0.09259259]\n",
      " [-0.5         0.11111111  0.05555556]]\n",
      "\n",
      "[[ 1.00000000e+00  0.00000000e+00 -2.77555756e-17]\n",
      " [ 2.77555756e-17  1.00000000e+00  2.77555756e-17]\n",
      " [-2.77555756e-17  0.00000000e+00  1.00000000e+00]]\n"
     ]
    }
   ],
   "source": [
    "print(np.linalg.solve(mat,product))\n",
    "print('')\n",
    "print(np.linalg.inv(mat))\n",
    "vec_in = np.linalg.inv(mat)\n",
    "print('')\n",
    "prod_one=np.matmul(vec_in,mat)\n",
    "print(prod_one)"
   ]
  },
  {
   "cell_type": "code",
   "execution_count": 20,
   "metadata": {},
   "outputs": [
    {
     "name": "stdout",
     "output_type": "stream",
     "text": [
      "['blue' 'red' 'orange' 'purple' 'purple' 'orange' 'Red' '6']\n",
      "['6' 'Red' 'blue' 'orange' 'purple' 'red']\n"
     ]
    }
   ],
   "source": [
    "# we can find the unique values in an array\n",
    "vec7 = np.array(['blue','red','orange','purple','purple','orange','Red',6])\n",
    "print(vec7)\n",
    "print(np.unique(vec7))"
   ]
  },
  {
   "cell_type": "code",
   "execution_count": 37,
   "metadata": {},
   "outputs": [
    {
     "name": "stdout",
     "output_type": "stream",
     "text": [
      "[[0.69294341 0.72429028 0.12964511 0.589235   0.47041153]\n",
      " [0.56433551 0.66565439 0.70958609 0.85508877 0.59771722]\n",
      " [0.82674299 0.65814509 0.90580729 0.48763461 0.0603851 ]\n",
      " [0.90103068 0.19087984 0.56588705 0.69070472 0.71565944]\n",
      " [0.48227798 0.77467056 0.12234063 0.60640303 0.08860383]]\n",
      "\n",
      "[[-0.45608479 -0.91380422  1.02199877  1.50412992 -1.67204579]\n",
      " [ 1.19378534  1.24787746 -1.9486176  -1.12548272 -0.01157607]\n",
      " [-0.80371422  0.12304049  0.8664427   0.5089781  -0.55392413]\n",
      " [ 0.11835159 -2.31660992  0.68101529  0.86639295 -0.40359788]\n",
      " [-0.59542786 -1.82708805  1.80782642  0.83929367  1.89699277]\n",
      " [ 0.17019753 -0.99283341  0.58787887 -0.28094539  0.07274461]\n",
      " [ 0.66034558  0.97541955  0.57377514  0.25892556 -0.80955646]\n",
      " [ 0.2208567   0.10268496  1.43220864 -1.13761557 -0.42661328]\n",
      " [ 0.12990132 -1.34444982  0.93919352 -0.2138971  -0.42188652]\n",
      " [ 0.72469775 -0.04716464  0.79053029  0.70909113  0.39360065]]\n",
      "[[[-0.45608479 -0.91380422  1.02199877  1.50412992 -1.67204579]\n",
      "  [ 1.19378534  1.24787746 -1.9486176  -1.12548272 -0.01157607]]\n",
      "\n",
      " [[-0.80371422  0.12304049  0.8664427   0.5089781  -0.55392413]\n",
      "  [ 0.11835159 -2.31660992  0.68101529  0.86639295 -0.40359788]]\n",
      "\n",
      " [[-0.59542786 -1.82708805  1.80782642  0.83929367  1.89699277]\n",
      "  [ 0.17019753 -0.99283341  0.58787887 -0.28094539  0.07274461]]\n",
      "\n",
      " [[ 0.66034558  0.97541955  0.57377514  0.25892556 -0.80955646]\n",
      "  [ 0.2208567   0.10268496  1.43220864 -1.13761557 -0.42661328]]\n",
      "\n",
      " [[ 0.12990132 -1.34444982  0.93919352 -0.2138971  -0.42188652]\n",
      "  [ 0.72469775 -0.04716464  0.79053029  0.70909113  0.39360065]]]\n",
      "[[[-0.45608479 -0.80371422 -0.59542786  0.66034558  0.12990132]\n",
      "  [ 1.19378534  0.11835159  0.17019753  0.2208567   0.72469775]]\n",
      "\n",
      " [[-0.91380422  0.12304049 -1.82708805  0.97541955 -1.34444982]\n",
      "  [ 1.24787746 -2.31660992 -0.99283341  0.10268496 -0.04716464]]\n",
      "\n",
      " [[ 1.02199877  0.8664427   1.80782642  0.57377514  0.93919352]\n",
      "  [-1.9486176   0.68101529  0.58787887  1.43220864  0.79053029]]\n",
      "\n",
      " [[ 1.50412992  0.5089781   0.83929367  0.25892556 -0.2138971 ]\n",
      "  [-1.12548272  0.86639295 -0.28094539 -1.13761557  0.70909113]]\n",
      "\n",
      " [[-1.67204579 -0.55392413  1.89699277 -0.80955646 -0.42188652]\n",
      "  [-0.01157607 -0.40359788  0.07274461 -0.42661328  0.39360065]]]\n",
      "[ 0.11835159 -2.31660992  0.68101529  0.86639295 -0.40359788]\n"
     ]
    }
   ],
   "source": [
    "# we can also use numpy to generate samples of a random variable\n",
    "rand_mat = np.random.rand(5,5) # uniform random variable\n",
    "print(rand_mat)\n",
    "rand_mat2 = np.random.randn(10,5) # standard normal random variable\n",
    "print('')\n",
    "print(rand_mat2)\n",
    "# lets do a little re-ordering around the matrices\n",
    "rand_mat3 = rand_mat2.reshape(5,2,5)\n",
    "print(rand_mat3)\n",
    "print(rand_mat3.T)"
   ]
  },
  {
   "cell_type": "code",
   "execution_count": 27,
   "metadata": {},
   "outputs": [
    {
     "name": "stdout",
     "output_type": "stream",
     "text": [
      "0.5229345866956766\n",
      "1.0061029652969231\n"
     ]
    }
   ],
   "source": [
    "# we can also use numpy for statistical tools on arrays\n",
    "print(np.mean(rand_mat))\n",
    "print(np.std(rand_mat2))"
   ]
  },
  {
   "cell_type": "code",
   "execution_count": 28,
   "metadata": {},
   "outputs": [
    {
     "name": "stdout",
     "output_type": "stream",
     "text": [
      "0.08515060728367096\n",
      "2.1783850237810296\n"
     ]
    }
   ],
   "source": [
    "print(np.min(rand_mat))\n",
    "print(np.max(rand_mat2))"
   ]
  },
  {
   "cell_type": "code",
   "execution_count": null,
   "metadata": {},
   "outputs": [],
   "source": [
    "# break here for next video!"
   ]
  },
  {
   "cell_type": "code",
   "execution_count": 31,
   "metadata": {},
   "outputs": [
    {
     "name": "stdout",
     "output_type": "stream",
     "text": [
      "[ 1.17674111 -0.73128836 -0.43869233  0.01964867  0.98865408  2.09426365\n",
      "  0.24239653  1.06002389  1.31897799  1.87654044 -0.0076517   0.31044843\n",
      "  0.55644278 -0.81442853  1.36532287  1.31163922 -0.37307789 -0.40690325\n",
      "  1.5126575 ]\n",
      "0.24239653156570654\n",
      "[ 1.17674111 -0.73128836 -0.43869233  0.01964867]\n"
     ]
    }
   ],
   "source": [
    "# how do we access entries in a numpy vector\n",
    "rand_vec = np.random.randn(19)\n",
    "print(rand_vec)\n",
    "print(rand_vec[6])\n",
    "type(rand_vec)\n",
    "print(rand_vec[0:4])\n"
   ]
  },
  {
   "cell_type": "code",
   "execution_count": 32,
   "metadata": {},
   "outputs": [
    {
     "name": "stdout",
     "output_type": "stream",
     "text": [
      "[0.98865408 2.09426365 0.24239653 1.06002389 1.31897799]\n"
     ]
    }
   ],
   "source": [
    "# we can access multiple entries at once using :\n",
    "print(rand_vec[4:9])"
   ]
  },
  {
   "cell_type": "code",
   "execution_count": 33,
   "metadata": {},
   "outputs": [
    {
     "name": "stdout",
     "output_type": "stream",
     "text": [
      "[ 0  3  6  9 12]\n",
      "[1.17674111 0.01964867 0.24239653 1.87654044 0.55644278]\n"
     ]
    }
   ],
   "source": [
    "# we can also access multiple non-consecutive entries using np.arange\n",
    "print(np.arange(0,15,3))\n",
    "print(rand_vec[np.arange(0,15,3)])"
   ]
  },
  {
   "cell_type": "code",
   "execution_count": 38,
   "metadata": {},
   "outputs": [
    {
     "name": "stdout",
     "output_type": "stream",
     "text": [
      "[[0.69294341 0.72429028 0.12964511 0.589235   0.47041153]\n",
      " [0.56433551 0.66565439 0.70958609 0.85508877 0.59771722]\n",
      " [0.82674299 0.65814509 0.90580729 0.48763461 0.0603851 ]\n",
      " [0.90103068 0.19087984 0.56588705 0.69070472 0.71565944]\n",
      " [0.48227798 0.77467056 0.12234063 0.60640303 0.08860383]]\n",
      "0.7095860889494375\n",
      "0.7095860889494375\n",
      "[ 0.11835159 -2.31660992  0.68101529  0.86639295 -0.40359788]\n"
     ]
    }
   ],
   "source": [
    "# what about matrices\n",
    "print(rand_mat)\n",
    "print(rand_mat[1][2])\n",
    "print(rand_mat[1,2])\n",
    "print(rand_mat3[1][1])"
   ]
  },
  {
   "cell_type": "code",
   "execution_count": 39,
   "metadata": {},
   "outputs": [
    {
     "name": "stdout",
     "output_type": "stream",
     "text": [
      "[[0.66565439 0.70958609 0.85508877]]\n"
     ]
    }
   ],
   "source": [
    "#print(rand_mat[0:2,1:3])\n",
    "print(rand_mat[1:2,1:4])"
   ]
  },
  {
   "cell_type": "code",
   "execution_count": 40,
   "metadata": {},
   "outputs": [
    {
     "name": "stdout",
     "output_type": "stream",
     "text": [
      "[ 1.17674111 -0.73128836 -0.43869233  0.01964867  0.98865408  2.09426365\n",
      "  0.24239653  1.06002389  1.31897799  1.87654044 -0.0076517   0.31044843\n",
      "  0.55644278 -0.81442853  1.36532287  1.31163922 -0.37307789 -0.40690325\n",
      "  1.5126575 ]\n",
      "\n",
      "[ 1.17674111 -0.73128836 -0.43869233  4.          4.          2.09426365\n",
      "  0.24239653  1.06002389  1.31897799  1.87654044 -0.0076517   0.31044843\n",
      "  0.55644278 -0.81442853  1.36532287  1.31163922 -0.37307789 -0.40690325\n",
      "  1.5126575 ]\n",
      "\n",
      "[ 1.17674111 -0.73128836 -0.43869233  1.          2.          2.09426365\n",
      "  0.24239653  1.06002389  1.31897799  1.87654044 -0.0076517   0.31044843\n",
      "  0.55644278 -0.81442853  1.36532287  1.31163922 -0.37307789 -0.40690325\n",
      "  1.5126575 ]\n"
     ]
    }
   ],
   "source": [
    "# let's change some values in an array!\n",
    "print(rand_vec)\n",
    "rand_vec[3:5] = 4\n",
    "print('')\n",
    "print(rand_vec)\n",
    "rand_vec[3:5] = [1,2]\n",
    "print('')\n",
    "print(rand_vec)"
   ]
  },
  {
   "cell_type": "code",
   "execution_count": 41,
   "metadata": {},
   "outputs": [
    {
     "name": "stdout",
     "output_type": "stream",
     "text": [
      "[[0.69294341 0.72429028 0.12964511 0.589235   0.47041153]\n",
      " [0.56433551 0.66565439 0.70958609 0.85508877 0.59771722]\n",
      " [0.82674299 0.65814509 0.90580729 0.48763461 0.0603851 ]\n",
      " [0.90103068 0.19087984 0.56588705 0.69070472 0.71565944]\n",
      " [0.48227798 0.77467056 0.12234063 0.60640303 0.08860383]]\n",
      "\n",
      "[[0.69294341 0.72429028 0.12964511 0.589235   0.47041153]\n",
      " [0.56433551 0.66565439 0.70958609 0.         0.        ]\n",
      " [0.82674299 0.65814509 0.90580729 0.         0.        ]\n",
      " [0.90103068 0.19087984 0.56588705 0.69070472 0.71565944]\n",
      " [0.48227798 0.77467056 0.12234063 0.60640303 0.08860383]]\n"
     ]
    }
   ],
   "source": [
    "print(rand_mat)\n",
    "rand_mat[1:3,3:5] = 0\n",
    "print('')\n",
    "print(rand_mat)"
   ]
  },
  {
   "cell_type": "code",
   "execution_count": 42,
   "metadata": {},
   "outputs": [
    {
     "name": "stdout",
     "output_type": "stream",
     "text": [
      "[[0.69294341 0.72429028 0.12964511]\n",
      " [0.56433551 0.66565439 0.70958609]]\n",
      "[[3. 3. 3.]\n",
      " [3. 3. 3.]]\n"
     ]
    }
   ],
   "source": [
    "sub_mat = rand_mat[0:2,0:3]\n",
    "print(sub_mat)\n",
    "sub_mat[:] = 3\n",
    "print(sub_mat)\n"
   ]
  },
  {
   "cell_type": "code",
   "execution_count": 43,
   "metadata": {},
   "outputs": [
    {
     "name": "stdout",
     "output_type": "stream",
     "text": [
      "[[3.         3.         3.         0.589235   0.47041153]\n",
      " [3.         3.         3.         0.         0.        ]\n",
      " [0.82674299 0.65814509 0.90580729 0.         0.        ]\n",
      " [0.90103068 0.19087984 0.56588705 0.69070472 0.71565944]\n",
      " [0.48227798 0.77467056 0.12234063 0.60640303 0.08860383]]\n"
     ]
    }
   ],
   "source": [
    "print(rand_mat)"
   ]
  },
  {
   "cell_type": "code",
   "execution_count": 44,
   "metadata": {},
   "outputs": [
    {
     "name": "stdout",
     "output_type": "stream",
     "text": [
      "[[99. 99. 99.]\n",
      " [99. 99. 99.]]\n",
      "[[3.         3.         3.         0.589235   0.47041153]\n",
      " [3.         3.         3.         0.         0.        ]\n",
      " [0.82674299 0.65814509 0.90580729 0.         0.        ]\n",
      " [0.90103068 0.19087984 0.56588705 0.69070472 0.71565944]\n",
      " [0.48227798 0.77467056 0.12234063 0.60640303 0.08860383]]\n"
     ]
    }
   ],
   "source": [
    "sub_mat2 = rand_mat[0:2,0:3].copy()\n",
    "sub_mat2[:] = 99\n",
    "print(sub_mat2)\n",
    "print(rand_mat)\n"
   ]
  },
  {
   "cell_type": "code",
   "execution_count": null,
   "metadata": {},
   "outputs": [],
   "source": [
    "# break here for next video"
   ]
  },
  {
   "cell_type": "code",
   "execution_count": 45,
   "metadata": {},
   "outputs": [
    {
     "name": "stdout",
     "output_type": "stream",
     "text": [
      "[-0.25675642 -0.72971334 -1.43379191  0.62090216  0.04027804  0.25173901\n",
      " -0.25815415  0.23236952 -0.602746   -1.23967834 -3.11303659 -0.43019576\n",
      " -0.39352317 -0.99601359  0.48716919]\n",
      "[False False False  True  True  True False  True False False False False\n",
      " False False  True]\n",
      "[0.62090216 0.04027804 0.25173901 0.23236952 0.48716919]\n"
     ]
    }
   ],
   "source": [
    "# we can also access entries with logicals\n",
    "rand_vec = np.random.randn(15)\n",
    "\n",
    "print(rand_vec)\n",
    "print(rand_vec>0)\n",
    "print(rand_vec[rand_vec>0])"
   ]
  },
  {
   "cell_type": "code",
   "execution_count": 46,
   "metadata": {},
   "outputs": [
    {
     "name": "stdout",
     "output_type": "stream",
     "text": [
      "[[-0.45608479 -0.91380422  1.02199877  1.50412992 -1.67204579]\n",
      " [ 1.19378534  1.24787746 -1.9486176  -1.12548272 -0.01157607]\n",
      " [-0.80371422  0.12304049  0.8664427   0.5089781  -0.55392413]\n",
      " [ 0.11835159 -2.31660992  0.68101529  0.86639295 -0.40359788]\n",
      " [-0.59542786 -1.82708805  1.80782642  0.83929367  1.89699277]\n",
      " [ 0.17019753 -0.99283341  0.58787887 -0.28094539  0.07274461]\n",
      " [ 0.66034558  0.97541955  0.57377514  0.25892556 -0.80955646]\n",
      " [ 0.2208567   0.10268496  1.43220864 -1.13761557 -0.42661328]\n",
      " [ 0.12990132 -1.34444982  0.93919352 -0.2138971  -0.42188652]\n",
      " [ 0.72469775 -0.04716464  0.79053029  0.70909113  0.39360065]]\n",
      "[1.02199877 1.50412992 1.19378534 1.24787746 0.12304049 0.8664427\n",
      " 0.5089781  0.11835159 0.68101529 0.86639295 1.80782642 0.83929367\n",
      " 1.89699277 0.17019753 0.58787887 0.07274461 0.66034558 0.97541955\n",
      " 0.57377514 0.25892556 0.2208567  0.10268496 1.43220864 0.12990132\n",
      " 0.93919352 0.72469775 0.79053029 0.70909113 0.39360065]\n"
     ]
    }
   ],
   "source": [
    "print(rand_mat2)\n",
    "print(rand_mat2[rand_mat2>0])"
   ]
  },
  {
   "cell_type": "code",
   "execution_count": 47,
   "metadata": {},
   "outputs": [
    {
     "name": "stdout",
     "output_type": "stream",
     "text": [
      "[-0.25675642 -0.72971334 -1.43379191  0.62090216  0.04027804  0.25173901\n",
      " -0.25815415  0.23236952 -0.602746   -1.23967834 -3.11303659 -0.43019576\n",
      " -0.39352317 -0.99601359  0.48716919]\n",
      "\n",
      "[-0.25675642 -0.72971334 -1.43379191 -5.          0.04027804  0.25173901\n",
      " -0.25815415  0.23236952 -0.602746   -1.23967834 -3.11303659 -0.43019576\n",
      " -0.39352317 -0.99601359  0.48716919]\n"
     ]
    }
   ],
   "source": [
    "\n",
    "print(rand_vec)\n",
    "print('')\n",
    "rand_vec[rand_vec>0.5] = -5\n",
    "print(rand_vec)"
   ]
  },
  {
   "cell_type": "code",
   "execution_count": 48,
   "metadata": {},
   "outputs": [],
   "source": [
    "# let's save some arrays on the disk for use later!\n",
    "np.save('saved_file_name',rand_mat2)\n"
   ]
  },
  {
   "cell_type": "code",
   "execution_count": 49,
   "metadata": {},
   "outputs": [],
   "source": [
    "np.savez('zipped_file_name',rand_mat=rand_mat,rand_mat2=rand_mat2)"
   ]
  },
  {
   "cell_type": "code",
   "execution_count": 50,
   "metadata": {},
   "outputs": [
    {
     "name": "stdout",
     "output_type": "stream",
     "text": [
      "[[-0.45608479 -0.91380422  1.02199877  1.50412992 -1.67204579]\n",
      " [ 1.19378534  1.24787746 -1.9486176  -1.12548272 -0.01157607]\n",
      " [-0.80371422  0.12304049  0.8664427   0.5089781  -0.55392413]\n",
      " [ 0.11835159 -2.31660992  0.68101529  0.86639295 -0.40359788]\n",
      " [-0.59542786 -1.82708805  1.80782642  0.83929367  1.89699277]\n",
      " [ 0.17019753 -0.99283341  0.58787887 -0.28094539  0.07274461]\n",
      " [ 0.66034558  0.97541955  0.57377514  0.25892556 -0.80955646]\n",
      " [ 0.2208567   0.10268496  1.43220864 -1.13761557 -0.42661328]\n",
      " [ 0.12990132 -1.34444982  0.93919352 -0.2138971  -0.42188652]\n",
      " [ 0.72469775 -0.04716464  0.79053029  0.70909113  0.39360065]]\n",
      "\n",
      "<numpy.lib.npyio.NpzFile object at 0x00000259D44EEB48>\n"
     ]
    }
   ],
   "source": [
    "# now let's load it\n",
    "loaded_vec = np.load('saved_file_name.npy')\n",
    "loaded_zip = np.load('zipped_file_name.npz')\n",
    "\n",
    "print(loaded_vec)\n",
    "print('')\n",
    "print(loaded_zip)"
   ]
  },
  {
   "cell_type": "code",
   "execution_count": 51,
   "metadata": {},
   "outputs": [
    {
     "name": "stdout",
     "output_type": "stream",
     "text": [
      "[[3.         3.         3.         0.589235   0.47041153]\n",
      " [3.         3.         3.         0.         0.        ]\n",
      " [0.82674299 0.65814509 0.90580729 0.         0.        ]\n",
      " [0.90103068 0.19087984 0.56588705 0.69070472 0.71565944]\n",
      " [0.48227798 0.77467056 0.12234063 0.60640303 0.08860383]]\n",
      "\n",
      "[[-0.45608479 -0.91380422  1.02199877  1.50412992 -1.67204579]\n",
      " [ 1.19378534  1.24787746 -1.9486176  -1.12548272 -0.01157607]\n",
      " [-0.80371422  0.12304049  0.8664427   0.5089781  -0.55392413]\n",
      " [ 0.11835159 -2.31660992  0.68101529  0.86639295 -0.40359788]\n",
      " [-0.59542786 -1.82708805  1.80782642  0.83929367  1.89699277]\n",
      " [ 0.17019753 -0.99283341  0.58787887 -0.28094539  0.07274461]\n",
      " [ 0.66034558  0.97541955  0.57377514  0.25892556 -0.80955646]\n",
      " [ 0.2208567   0.10268496  1.43220864 -1.13761557 -0.42661328]\n",
      " [ 0.12990132 -1.34444982  0.93919352 -0.2138971  -0.42188652]\n",
      " [ 0.72469775 -0.04716464  0.79053029  0.70909113  0.39360065]]\n",
      "[[3.         3.         3.         0.589235   0.47041153]\n",
      " [3.         3.         3.         0.         0.        ]\n",
      " [0.82674299 0.65814509 0.90580729 0.         0.        ]\n",
      " [0.90103068 0.19087984 0.56588705 0.69070472 0.71565944]\n",
      " [0.48227798 0.77467056 0.12234063 0.60640303 0.08860383]]\n"
     ]
    }
   ],
   "source": [
    "print(loaded_zip['rand_mat'])\n",
    "print('')\n",
    "print(loaded_zip['rand_mat2'])\n",
    "\n",
    "new_array  = loaded_zip['rand_mat']\n",
    "print(new_array)"
   ]
  },
  {
   "cell_type": "code",
   "execution_count": 52,
   "metadata": {},
   "outputs": [
    {
     "name": "stdout",
     "output_type": "stream",
     "text": [
      "[[3.         3.         3.         0.589235   0.47041153]\n",
      " [3.         3.         3.         0.         0.        ]\n",
      " [0.82674299 0.65814509 0.90580729 0.         0.        ]\n",
      " [0.90103068 0.19087984 0.56588705 0.69070472 0.71565944]\n",
      " [0.48227798 0.77467056 0.12234063 0.60640303 0.08860383]]\n",
      "\n",
      "[[3.         3.         3.         0.589235   0.47041153]\n",
      " [3.         3.         3.         0.         0.        ]\n",
      " [0.82674299 0.65814509 0.90580729 0.         0.        ]\n",
      " [0.90103068 0.19087984 0.56588705 0.69070472 0.71565944]\n",
      " [0.48227798 0.77467056 0.12234063 0.60640303 0.08860383]]\n"
     ]
    }
   ],
   "source": [
    "# we can also save/load as text files...but only single variables\n",
    "np.savetxt('txt1.txt',rand_mat,delimiter=',')\n",
    "rand_mat_txt = np.loadtxt('txt1.txt',delimiter=',')\n",
    "print(rand_mat)\n",
    "print('')\n",
    "print(rand_mat_txt)"
   ]
  },
  {
   "cell_type": "code",
   "execution_count": null,
   "metadata": {},
   "outputs": [],
   "source": [
    "#End of Numpy Lab"
   ]
  }
 ],
 "metadata": {
  "kernelspec": {
   "display_name": "Python 3",
   "language": "python",
   "name": "python3"
  },
  "language_info": {
   "codemirror_mode": {
    "name": "ipython",
    "version": 3
   },
   "file_extension": ".py",
   "mimetype": "text/x-python",
   "name": "python",
   "nbconvert_exporter": "python",
   "pygments_lexer": "ipython3",
   "version": "3.7.4"
  }
 },
 "nbformat": 4,
 "nbformat_minor": 2
}
